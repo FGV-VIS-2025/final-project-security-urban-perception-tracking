{
 "cells": [
  {
   "cell_type": "markdown",
   "id": "b0364dab",
   "metadata": {},
   "source": [
    "### Fix main2"
   ]
  },
  {
   "cell_type": "markdown",
   "id": "bd4df788",
   "metadata": {},
   "source": [
    "Fix two locations with null values"
   ]
  },
  {
   "cell_type": "code",
   "execution_count": 2,
   "id": "4960314c",
   "metadata": {},
   "outputs": [],
   "source": [
    "import json \n",
    "\n",
    "# with open('/home/sante/Documents/FGV/Eclass/Data Visualization/final-project-security-urban-perception-tracking/public/image_safety.json', 'r') as file:\n",
    "#     data = json.load(file)\n",
    "\n",
    "# with open('/home/sante/Documents/FGV/Eclass/Data Visualization/final-project-security-urban-perception-tracking/public/image_safety.json', 'r') as file:\n",
    "#     data = json.load(file)\n",
    "\n",
    "\n",
    "# len(data)"
   ]
  },
  {
   "cell_type": "code",
   "execution_count": 1,
   "id": "801b3edd",
   "metadata": {},
   "outputs": [],
   "source": [
    "import pandas as pd\n"
   ]
  },
  {
   "cell_type": "code",
   "execution_count": 48,
   "id": "b151707e",
   "metadata": {},
   "outputs": [
    {
     "data": {
      "text/html": [
       "<div>\n",
       "<style scoped>\n",
       "    .dataframe tbody tr th:only-of-type {\n",
       "        vertical-align: middle;\n",
       "    }\n",
       "\n",
       "    .dataframe tbody tr th {\n",
       "        vertical-align: top;\n",
       "    }\n",
       "\n",
       "    .dataframe thead th {\n",
       "        text-align: right;\n",
       "    }\n",
       "</style>\n",
       "<table border=\"1\" class=\"dataframe\">\n",
       "  <thead>\n",
       "    <tr style=\"text-align: right;\">\n",
       "      <th></th>\n",
       "      <th>Contador</th>\n",
       "      <th>ID</th>\n",
       "    </tr>\n",
       "  </thead>\n",
       "  <tbody>\n",
       "    <tr>\n",
       "      <th>0</th>\n",
       "      <td>1</td>\n",
       "      <td>50f5ea5bfdc9f065f0007ab6</td>\n",
       "    </tr>\n",
       "    <tr>\n",
       "      <th>1</th>\n",
       "      <td>2</td>\n",
       "      <td>50f5ea5bfdc9f065f0007ab9</td>\n",
       "    </tr>\n",
       "    <tr>\n",
       "      <th>2</th>\n",
       "      <td>3</td>\n",
       "      <td>50f5ea5cfdc9f065f0007abf</td>\n",
       "    </tr>\n",
       "    <tr>\n",
       "      <th>3</th>\n",
       "      <td>4</td>\n",
       "      <td>50f5ea5cfdc9f065f0007ac5</td>\n",
       "    </tr>\n",
       "    <tr>\n",
       "      <th>4</th>\n",
       "      <td>5</td>\n",
       "      <td>50f5ea5dfdc9f065f0007ada</td>\n",
       "    </tr>\n",
       "    <tr>\n",
       "      <th>...</th>\n",
       "      <td>...</td>\n",
       "      <td>...</td>\n",
       "    </tr>\n",
       "    <tr>\n",
       "      <th>145</th>\n",
       "      <td>146</td>\n",
       "      <td>50f5ec17fdc9f065f0008708</td>\n",
       "    </tr>\n",
       "    <tr>\n",
       "      <th>146</th>\n",
       "      <td>147</td>\n",
       "      <td>50f5ec18fdc9f065f0008719</td>\n",
       "    </tr>\n",
       "    <tr>\n",
       "      <th>147</th>\n",
       "      <td>148</td>\n",
       "      <td>50f5ec1ffdc9f065f00087a4</td>\n",
       "    </tr>\n",
       "    <tr>\n",
       "      <th>148</th>\n",
       "      <td>149</td>\n",
       "      <td>50f5ec37fdc9f065f0008802</td>\n",
       "    </tr>\n",
       "    <tr>\n",
       "      <th>149</th>\n",
       "      <td>150</td>\n",
       "      <td>50f5ec40fdc9f065f00088bc</td>\n",
       "    </tr>\n",
       "  </tbody>\n",
       "</table>\n",
       "<p>150 rows × 2 columns</p>\n",
       "</div>"
      ],
      "text/plain": [
       "     Contador                        ID\n",
       "0           1  50f5ea5bfdc9f065f0007ab6\n",
       "1           2  50f5ea5bfdc9f065f0007ab9\n",
       "2           3  50f5ea5cfdc9f065f0007abf\n",
       "3           4  50f5ea5cfdc9f065f0007ac5\n",
       "4           5  50f5ea5dfdc9f065f0007ada\n",
       "..        ...                       ...\n",
       "145       146  50f5ec17fdc9f065f0008708\n",
       "146       147  50f5ec18fdc9f065f0008719\n",
       "147       148  50f5ec1ffdc9f065f00087a4\n",
       "148       149  50f5ec37fdc9f065f0008802\n",
       "149       150  50f5ec40fdc9f065f00088bc\n",
       "\n",
       "[150 rows x 2 columns]"
      ]
     },
     "execution_count": 48,
     "metadata": {},
     "output_type": "execute_result"
    }
   ],
   "source": [
    "ids = pd.read_excel('ids_listado.xlsx')\n",
    "ids"
   ]
  },
  {
   "cell_type": "code",
   "execution_count": 49,
   "id": "b864fad0",
   "metadata": {},
   "outputs": [
    {
     "data": {
      "text/html": [
       "<div>\n",
       "<style scoped>\n",
       "    .dataframe tbody tr th:only-of-type {\n",
       "        vertical-align: middle;\n",
       "    }\n",
       "\n",
       "    .dataframe tbody tr th {\n",
       "        vertical-align: top;\n",
       "    }\n",
       "\n",
       "    .dataframe thead th {\n",
       "        text-align: right;\n",
       "    }\n",
       "</style>\n",
       "<table border=\"1\" class=\"dataframe\">\n",
       "  <thead>\n",
       "    <tr style=\"text-align: right;\">\n",
       "      <th></th>\n",
       "      <th>image_id</th>\n",
       "      <th>lat</th>\n",
       "      <th>long</th>\n",
       "      <th>city</th>\n",
       "      <th>country</th>\n",
       "      <th>continent</th>\n",
       "      <th>safety</th>\n",
       "      <th>beautiful</th>\n",
       "      <th>wealthy</th>\n",
       "      <th>lively</th>\n",
       "      <th>boring</th>\n",
       "      <th>depressing</th>\n",
       "    </tr>\n",
       "  </thead>\n",
       "  <tbody>\n",
       "    <tr>\n",
       "      <th>0</th>\n",
       "      <td>50e5f7d4d7c3df413b00056a</td>\n",
       "      <td>22.310524</td>\n",
       "      <td>114.170637</td>\n",
       "      <td>Hong Kong</td>\n",
       "      <td>China</td>\n",
       "      <td>Asia</td>\n",
       "      <td>4.135536</td>\n",
       "      <td>1.574074</td>\n",
       "      <td>2.962963</td>\n",
       "      <td>4.199346</td>\n",
       "      <td>5.000000</td>\n",
       "      <td>0.000000</td>\n",
       "    </tr>\n",
       "    <tr>\n",
       "      <th>1</th>\n",
       "      <td>50e5f7d4d7c3df413b00056b</td>\n",
       "      <td>22.274799</td>\n",
       "      <td>114.192828</td>\n",
       "      <td>Hong Kong</td>\n",
       "      <td>China</td>\n",
       "      <td>Asia</td>\n",
       "      <td>3.560981</td>\n",
       "      <td>2.229437</td>\n",
       "      <td>5.277778</td>\n",
       "      <td>5.662393</td>\n",
       "      <td>7.777778</td>\n",
       "      <td>3.333333</td>\n",
       "    </tr>\n",
       "    <tr>\n",
       "      <th>2</th>\n",
       "      <td>50e5f7d4d7c3df413b00056c</td>\n",
       "      <td>22.291117</td>\n",
       "      <td>114.147373</td>\n",
       "      <td>Hong Kong</td>\n",
       "      <td>China</td>\n",
       "      <td>Asia</td>\n",
       "      <td>4.514946</td>\n",
       "      <td>3.333333</td>\n",
       "      <td>3.333333</td>\n",
       "      <td>4.746693</td>\n",
       "      <td>3.611111</td>\n",
       "      <td>0.000000</td>\n",
       "    </tr>\n",
       "    <tr>\n",
       "      <th>3</th>\n",
       "      <td>50e5f7d4d7c3df413b00056d</td>\n",
       "      <td>22.314273</td>\n",
       "      <td>114.177176</td>\n",
       "      <td>Hong Kong</td>\n",
       "      <td>China</td>\n",
       "      <td>Asia</td>\n",
       "      <td>4.852448</td>\n",
       "      <td>3.333333</td>\n",
       "      <td>5.083333</td>\n",
       "      <td>3.333333</td>\n",
       "      <td>8.333333</td>\n",
       "      <td>3.327381</td>\n",
       "    </tr>\n",
       "    <tr>\n",
       "      <th>4</th>\n",
       "      <td>50e5f7d4d7c3df413b00056e</td>\n",
       "      <td>22.332412</td>\n",
       "      <td>114.204790</td>\n",
       "      <td>Hong Kong</td>\n",
       "      <td>China</td>\n",
       "      <td>Asia</td>\n",
       "      <td>4.975207</td>\n",
       "      <td>2.129630</td>\n",
       "      <td>3.680556</td>\n",
       "      <td>4.343857</td>\n",
       "      <td>2.500000</td>\n",
       "      <td>4.444444</td>\n",
       "    </tr>\n",
       "    <tr>\n",
       "      <th>...</th>\n",
       "      <td>...</td>\n",
       "      <td>...</td>\n",
       "      <td>...</td>\n",
       "      <td>...</td>\n",
       "      <td>...</td>\n",
       "      <td>...</td>\n",
       "      <td>...</td>\n",
       "      <td>...</td>\n",
       "      <td>...</td>\n",
       "      <td>...</td>\n",
       "      <td>...</td>\n",
       "      <td>...</td>\n",
       "    </tr>\n",
       "    <tr>\n",
       "      <th>108815</th>\n",
       "      <td>5185d533fdc9f03fd500148e</td>\n",
       "      <td>45.581265</td>\n",
       "      <td>-73.511511</td>\n",
       "      <td>Montreal</td>\n",
       "      <td>Canada</td>\n",
       "      <td>North America</td>\n",
       "      <td>4.797811</td>\n",
       "      <td>3.251984</td>\n",
       "      <td>2.777778</td>\n",
       "      <td>2.148291</td>\n",
       "      <td>7.222222</td>\n",
       "      <td>7.777778</td>\n",
       "    </tr>\n",
       "    <tr>\n",
       "      <th>108816</th>\n",
       "      <td>5185d534fdc9f03fd500148f</td>\n",
       "      <td>45.591299</td>\n",
       "      <td>-73.520681</td>\n",
       "      <td>Montreal</td>\n",
       "      <td>Canada</td>\n",
       "      <td>North America</td>\n",
       "      <td>5.006830</td>\n",
       "      <td>6.888889</td>\n",
       "      <td>7.777778</td>\n",
       "      <td>6.176471</td>\n",
       "      <td>5.833333</td>\n",
       "      <td>2.611111</td>\n",
       "    </tr>\n",
       "    <tr>\n",
       "      <th>108817</th>\n",
       "      <td>5185d534fdc9f03fd5001490</td>\n",
       "      <td>45.470656</td>\n",
       "      <td>-73.631901</td>\n",
       "      <td>Montreal</td>\n",
       "      <td>Canada</td>\n",
       "      <td>North America</td>\n",
       "      <td>4.551622</td>\n",
       "      <td>3.333333</td>\n",
       "      <td>5.000000</td>\n",
       "      <td>5.008547</td>\n",
       "      <td>3.611111</td>\n",
       "      <td>2.962963</td>\n",
       "    </tr>\n",
       "    <tr>\n",
       "      <th>108818</th>\n",
       "      <td>5185d536fdc9f03fd5001491</td>\n",
       "      <td>45.626787</td>\n",
       "      <td>-73.547511</td>\n",
       "      <td>Montreal</td>\n",
       "      <td>Canada</td>\n",
       "      <td>North America</td>\n",
       "      <td>4.666846</td>\n",
       "      <td>2.833333</td>\n",
       "      <td>3.333333</td>\n",
       "      <td>4.376984</td>\n",
       "      <td>3.666667</td>\n",
       "      <td>5.777778</td>\n",
       "    </tr>\n",
       "    <tr>\n",
       "      <th>108819</th>\n",
       "      <td>50f6086ebeb2fed6f8000489</td>\n",
       "      <td>45.611012</td>\n",
       "      <td>-122.672137</td>\n",
       "      <td>Portland</td>\n",
       "      <td>USA</td>\n",
       "      <td>North America</td>\n",
       "      <td>0.000000</td>\n",
       "      <td>2.500000</td>\n",
       "      <td>7.500000</td>\n",
       "      <td>3.333333</td>\n",
       "      <td>7.930556</td>\n",
       "      <td>5.555556</td>\n",
       "    </tr>\n",
       "  </tbody>\n",
       "</table>\n",
       "<p>108820 rows × 12 columns</p>\n",
       "</div>"
      ],
      "text/plain": [
       "                        image_id        lat        long       city country  \\\n",
       "0       50e5f7d4d7c3df413b00056a  22.310524  114.170637  Hong Kong   China   \n",
       "1       50e5f7d4d7c3df413b00056b  22.274799  114.192828  Hong Kong   China   \n",
       "2       50e5f7d4d7c3df413b00056c  22.291117  114.147373  Hong Kong   China   \n",
       "3       50e5f7d4d7c3df413b00056d  22.314273  114.177176  Hong Kong   China   \n",
       "4       50e5f7d4d7c3df413b00056e  22.332412  114.204790  Hong Kong   China   \n",
       "...                          ...        ...         ...        ...     ...   \n",
       "108815  5185d533fdc9f03fd500148e  45.581265  -73.511511   Montreal  Canada   \n",
       "108816  5185d534fdc9f03fd500148f  45.591299  -73.520681   Montreal  Canada   \n",
       "108817  5185d534fdc9f03fd5001490  45.470656  -73.631901   Montreal  Canada   \n",
       "108818  5185d536fdc9f03fd5001491  45.626787  -73.547511   Montreal  Canada   \n",
       "108819  50f6086ebeb2fed6f8000489  45.611012 -122.672137   Portland     USA   \n",
       "\n",
       "            continent    safety  beautiful   wealthy    lively    boring  \\\n",
       "0                Asia  4.135536   1.574074  2.962963  4.199346  5.000000   \n",
       "1                Asia  3.560981   2.229437  5.277778  5.662393  7.777778   \n",
       "2                Asia  4.514946   3.333333  3.333333  4.746693  3.611111   \n",
       "3                Asia  4.852448   3.333333  5.083333  3.333333  8.333333   \n",
       "4                Asia  4.975207   2.129630  3.680556  4.343857  2.500000   \n",
       "...               ...       ...        ...       ...       ...       ...   \n",
       "108815  North America  4.797811   3.251984  2.777778  2.148291  7.222222   \n",
       "108816  North America  5.006830   6.888889  7.777778  6.176471  5.833333   \n",
       "108817  North America  4.551622   3.333333  5.000000  5.008547  3.611111   \n",
       "108818  North America  4.666846   2.833333  3.333333  4.376984  3.666667   \n",
       "108819  North America  0.000000   2.500000  7.500000  3.333333  7.930556   \n",
       "\n",
       "        depressing  \n",
       "0         0.000000  \n",
       "1         3.333333  \n",
       "2         0.000000  \n",
       "3         3.327381  \n",
       "4         4.444444  \n",
       "...            ...  \n",
       "108815    7.777778  \n",
       "108816    2.611111  \n",
       "108817    2.962963  \n",
       "108818    5.777778  \n",
       "108819    5.555556  \n",
       "\n",
       "[108820 rows x 12 columns]"
      ]
     },
     "execution_count": 49,
     "metadata": {},
     "output_type": "execute_result"
    }
   ],
   "source": [
    "scores = pd.read_csv(\"summary_qscores.csv\", sep=\";\")\n",
    "scores"
   ]
  },
  {
   "cell_type": "code",
   "execution_count": 50,
   "id": "212b865d",
   "metadata": {},
   "outputs": [],
   "source": [
    "merged_df = ids.merge(scores, left_on=\"ID\", right_on=\"image_id\", how=\"left\")\n",
    "merged_df = merged_df[['ID', 'lat', 'long', 'safety']]\n",
    "merged_df.to_csv('merged_data1.csv', index=False)"
   ]
  },
  {
   "cell_type": "markdown",
   "id": "48abb29d",
   "metadata": {},
   "source": [
    "#### First location (Image 56.jpg) with null"
   ]
  },
  {
   "cell_type": "code",
   "execution_count": 51,
   "id": "e2a8ebdd",
   "metadata": {},
   "outputs": [
    {
     "name": "stdout",
     "output_type": "stream",
     "text": [
      "Empty DataFrame\n",
      "Columns: [image_id, lat, long, city, country, continent, safety, beautiful, wealthy, lively, boring, depressing]\n",
      "Index: []\n"
     ]
    }
   ],
   "source": [
    "resultado = scores.loc[scores[\"image_id\"] == \"50f5eaf0fdc9f065f0007e7e\"]\n",
    "print(resultado)"
   ]
  },
  {
   "cell_type": "markdown",
   "id": "fccbf6b0",
   "metadata": {},
   "source": [
    "#### Second location (Image 117.jpg) with null"
   ]
  },
  {
   "cell_type": "code",
   "execution_count": 52,
   "id": "9c17b4ef",
   "metadata": {},
   "outputs": [
    {
     "name": "stdout",
     "output_type": "stream",
     "text": [
      "Empty DataFrame\n",
      "Columns: [image_id, lat, long, city, country, continent, safety, beautiful, wealthy, lively, boring, depressing]\n",
      "Index: []\n"
     ]
    }
   ],
   "source": [
    "resultado = scores.loc[scores[\"image_id\"] == \"50f5eb66fdc9f065f000828e\"]\n",
    "print(resultado)"
   ]
  },
  {
   "cell_type": "markdown",
   "id": "4f8cd9b7",
   "metadata": {},
   "source": [
    "#### Dataframe fixed"
   ]
  },
  {
   "cell_type": "code",
   "execution_count": 53,
   "id": "5964b6ee",
   "metadata": {},
   "outputs": [
    {
     "name": "stdout",
     "output_type": "stream",
     "text": [
      "<class 'pandas.core.frame.DataFrame'>\n",
      "RangeIndex: 150 entries, 0 to 149\n",
      "Data columns (total 4 columns):\n",
      " #   Column  Non-Null Count  Dtype  \n",
      "---  ------  --------------  -----  \n",
      " 0   ID      150 non-null    object \n",
      " 1   lat     148 non-null    float64\n",
      " 2   long    148 non-null    float64\n",
      " 3   safety  148 non-null    float64\n",
      "dtypes: float64(3), object(1)\n",
      "memory usage: 4.8+ KB\n"
     ]
    }
   ],
   "source": [
    "merged_df.info()"
   ]
  },
  {
   "cell_type": "markdown",
   "id": "de68f424",
   "metadata": {},
   "source": [
    "#### Hand searching of First Location (Image 56.jpg)\n",
    "URL: https://www.google.com/maps/place/I.A.P.C+de+Olaria/@-22.8428493,-43.2787135,15z/data=!4m10!1m2!2m1!1sinstituto+de+aposentadorias+IAPC+olaria!3m6!1s0x997bc8fa12c6c3:0xf7e52e4265a3c017!8m2!3d-22.8428493!4d-43.2596591!15sCidpbnN0aXR1dG8gZGUgYXBvc2VudGFkb3JpYXMgSUFQQyBvbGFyaWFaKSInaW5zdGl0dXRvIGRlIGFwb3NlbnRhZG9yaWFzIGlhcGMgb2xhcmlhkgEPaG91c2luZ19jb21wbGV4mgEkQ2hkRFNVaE5NRzluUzBWSlEwRm5UVVJ2YUdWbFpXZDNSUkFCqgF2EAEqJCIgaW5zdGl0dXRvIGRlIGFwb3NlbnRhZG9yaWFzIGlhcGMoDDIfEAEiG1O4ioXuz-64xRl7IguEePwuqFXFqL9gMbbeuzIrEAIiJ2luc3RpdHV0byBkZSBhcG9zZW50YWRvcmlhcyBpYXBjIG9sYXJpYeABAPoBBAgAEBg!16s%2Fg%2F11kjp8_cxb?entry=ttu&g_ep=EgoyMDI1MDYwMS4wIKXMDSoASAFQAw%3D%3D\n",
    "\n",
    "Location: IAPC de Olaria (referencial)\n",
    "Address: R. André Azevedo, 87 - Olaria, Rio de Janeiro - RJ, 21021-480 (referencial)\n",
    "\n",
    "lat = -22.8428493\n",
    "\n",
    "long = -43,2787135\n",
    "\n",
    "safety = null (0)"
   ]
  },
  {
   "cell_type": "markdown",
   "id": "2c17a0f8",
   "metadata": {},
   "source": [
    "#### Hand searching of Second Location (Image 117) \n",
    "URL: https://www.google.com/maps/@-22.8314584,-43.3363337,3a,90y,233.37h,87.73t/data=!3m7!1e1!3m5!1sSl_QC7ythSyNYDJIudzM7Q!2e0!6shttps:%2F%2Fstreetviewpixels-pa.googleapis.com%2Fv1%2Fthumbnail%3Fcb_client%3Dmaps_sv.tactile%26w%3D900%26h%3D600%26pitch%3D2.272323273432562%26panoid%3DSl_QC7ythSyNYDJIudzM7Q%26yaw%3D233.3747693883049!7i13312!8i6656?entry=ttu&g_ep=EgoyMDI1MDYwMS4wIKXMDSoASAFQAw%3D%3D\n",
    "\n",
    "Location: CEASA Rio (aproximado)\n",
    "\n",
    "lat = -22.8314584\n",
    "\n",
    "long = -43.336337\n",
    "\n",
    "safety = null (0)"
   ]
  },
  {
   "cell_type": "markdown",
   "id": "219867a4",
   "metadata": {},
   "source": [
    "### Updating values"
   ]
  },
  {
   "cell_type": "code",
   "execution_count": 54,
   "id": "48b00255",
   "metadata": {},
   "outputs": [
    {
     "data": {
      "text/html": [
       "<div>\n",
       "<style scoped>\n",
       "    .dataframe tbody tr th:only-of-type {\n",
       "        vertical-align: middle;\n",
       "    }\n",
       "\n",
       "    .dataframe tbody tr th {\n",
       "        vertical-align: top;\n",
       "    }\n",
       "\n",
       "    .dataframe thead th {\n",
       "        text-align: right;\n",
       "    }\n",
       "</style>\n",
       "<table border=\"1\" class=\"dataframe\">\n",
       "  <thead>\n",
       "    <tr style=\"text-align: right;\">\n",
       "      <th></th>\n",
       "      <th>ID</th>\n",
       "      <th>lat</th>\n",
       "      <th>long</th>\n",
       "      <th>safety</th>\n",
       "    </tr>\n",
       "  </thead>\n",
       "  <tbody>\n",
       "    <tr>\n",
       "      <th>0</th>\n",
       "      <td>50f5ea5bfdc9f065f0007ab6</td>\n",
       "      <td>-22.804526</td>\n",
       "      <td>-43.430537</td>\n",
       "      <td>3.333333</td>\n",
       "    </tr>\n",
       "    <tr>\n",
       "      <th>1</th>\n",
       "      <td>50f5ea5bfdc9f065f0007ab9</td>\n",
       "      <td>-22.884228</td>\n",
       "      <td>-43.434583</td>\n",
       "      <td>3.333333</td>\n",
       "    </tr>\n",
       "    <tr>\n",
       "      <th>2</th>\n",
       "      <td>50f5ea5cfdc9f065f0007abf</td>\n",
       "      <td>-22.900959</td>\n",
       "      <td>-43.243078</td>\n",
       "      <td>2.399423</td>\n",
       "    </tr>\n",
       "    <tr>\n",
       "      <th>3</th>\n",
       "      <td>50f5ea5cfdc9f065f0007ac5</td>\n",
       "      <td>-22.913764</td>\n",
       "      <td>-43.239547</td>\n",
       "      <td>6.111111</td>\n",
       "    </tr>\n",
       "    <tr>\n",
       "      <th>4</th>\n",
       "      <td>50f5ea5dfdc9f065f0007ada</td>\n",
       "      <td>-22.966093</td>\n",
       "      <td>-43.178542</td>\n",
       "      <td>4.997192</td>\n",
       "    </tr>\n",
       "    <tr>\n",
       "      <th>...</th>\n",
       "      <td>...</td>\n",
       "      <td>...</td>\n",
       "      <td>...</td>\n",
       "      <td>...</td>\n",
       "    </tr>\n",
       "    <tr>\n",
       "      <th>145</th>\n",
       "      <td>50f5ec17fdc9f065f0008708</td>\n",
       "      <td>-22.777602</td>\n",
       "      <td>-43.376038</td>\n",
       "      <td>4.131952</td>\n",
       "    </tr>\n",
       "    <tr>\n",
       "      <th>146</th>\n",
       "      <td>50f5ec18fdc9f065f0008719</td>\n",
       "      <td>-22.786227</td>\n",
       "      <td>-43.292788</td>\n",
       "      <td>2.728423</td>\n",
       "    </tr>\n",
       "    <tr>\n",
       "      <th>147</th>\n",
       "      <td>50f5ec1ffdc9f065f00087a4</td>\n",
       "      <td>-22.798615</td>\n",
       "      <td>-43.424366</td>\n",
       "      <td>4.867307</td>\n",
       "    </tr>\n",
       "    <tr>\n",
       "      <th>148</th>\n",
       "      <td>50f5ec37fdc9f065f0008802</td>\n",
       "      <td>-22.901311</td>\n",
       "      <td>-43.178794</td>\n",
       "      <td>3.333333</td>\n",
       "    </tr>\n",
       "    <tr>\n",
       "      <th>149</th>\n",
       "      <td>50f5ec40fdc9f065f00088bc</td>\n",
       "      <td>-22.783857</td>\n",
       "      <td>-43.395156</td>\n",
       "      <td>3.333333</td>\n",
       "    </tr>\n",
       "  </tbody>\n",
       "</table>\n",
       "<p>150 rows × 4 columns</p>\n",
       "</div>"
      ],
      "text/plain": [
       "                           ID        lat       long    safety\n",
       "0    50f5ea5bfdc9f065f0007ab6 -22.804526 -43.430537  3.333333\n",
       "1    50f5ea5bfdc9f065f0007ab9 -22.884228 -43.434583  3.333333\n",
       "2    50f5ea5cfdc9f065f0007abf -22.900959 -43.243078  2.399423\n",
       "3    50f5ea5cfdc9f065f0007ac5 -22.913764 -43.239547  6.111111\n",
       "4    50f5ea5dfdc9f065f0007ada -22.966093 -43.178542  4.997192\n",
       "..                        ...        ...        ...       ...\n",
       "145  50f5ec17fdc9f065f0008708 -22.777602 -43.376038  4.131952\n",
       "146  50f5ec18fdc9f065f0008719 -22.786227 -43.292788  2.728423\n",
       "147  50f5ec1ffdc9f065f00087a4 -22.798615 -43.424366  4.867307\n",
       "148  50f5ec37fdc9f065f0008802 -22.901311 -43.178794  3.333333\n",
       "149  50f5ec40fdc9f065f00088bc -22.783857 -43.395156  3.333333\n",
       "\n",
       "[150 rows x 4 columns]"
      ]
     },
     "execution_count": 54,
     "metadata": {},
     "output_type": "execute_result"
    }
   ],
   "source": [
    "merged_df"
   ]
  },
  {
   "cell_type": "code",
   "execution_count": 25,
   "id": "a2d6413a",
   "metadata": {},
   "outputs": [
    {
     "data": {
      "text/plain": [
       "ID        50f5eaf0fdc9f065f0007e7e\n",
       "lat                            NaN\n",
       "long                           NaN\n",
       "safety                         NaN\n",
       "Name: 56, dtype: object"
      ]
     },
     "execution_count": 25,
     "metadata": {},
     "output_type": "execute_result"
    }
   ],
   "source": [
    "merged_df.iloc[56]"
   ]
  },
  {
   "cell_type": "code",
   "execution_count": 46,
   "id": "db67eaba",
   "metadata": {},
   "outputs": [
    {
     "data": {
      "text/plain": [
       "ID        50f5eb66fdc9f065f000828e\n",
       "lat                            NaN\n",
       "long                           NaN\n",
       "safety                         NaN\n",
       "Name: 117, dtype: object"
      ]
     },
     "execution_count": 46,
     "metadata": {},
     "output_type": "execute_result"
    }
   ],
   "source": [
    "merged_df.iloc[117]"
   ]
  },
  {
   "cell_type": "code",
   "execution_count": 55,
   "id": "9a3cc0b6",
   "metadata": {},
   "outputs": [],
   "source": [
    "#merged_df1 = merged_df.copy() \n",
    "merged_df.loc[56, ['lat', 'long', 'safety']] = [-22.8428493, -43.2787135, 0]\n",
    "merged_df.loc[117, ['lat', 'long', 'safety']] = [-22.8314584, -43.336337, 0]"
   ]
  },
  {
   "cell_type": "code",
   "execution_count": 56,
   "id": "491a6b26",
   "metadata": {},
   "outputs": [
    {
     "data": {
      "text/plain": [
       "ID        50f5eaf0fdc9f065f0007e7e\n",
       "lat                     -22.842849\n",
       "long                    -43.278714\n",
       "safety                         0.0\n",
       "Name: 56, dtype: object"
      ]
     },
     "execution_count": 56,
     "metadata": {},
     "output_type": "execute_result"
    }
   ],
   "source": [
    "merged_df.iloc[56]\n",
    "#print(merged_df.iloc[117])"
   ]
  },
  {
   "cell_type": "code",
   "execution_count": 57,
   "id": "aa93f14a",
   "metadata": {},
   "outputs": [
    {
     "name": "stdout",
     "output_type": "stream",
     "text": [
      "<class 'pandas.core.frame.DataFrame'>\n",
      "RangeIndex: 150 entries, 0 to 149\n",
      "Data columns (total 4 columns):\n",
      " #   Column  Non-Null Count  Dtype  \n",
      "---  ------  --------------  -----  \n",
      " 0   ID      150 non-null    object \n",
      " 1   lat     150 non-null    float64\n",
      " 2   long    150 non-null    float64\n",
      " 3   safety  150 non-null    float64\n",
      "dtypes: float64(3), object(1)\n",
      "memory usage: 4.8+ KB\n"
     ]
    }
   ],
   "source": [
    "# merged_df1 = merged_df.copy() \n",
    "merged_df.info()"
   ]
  },
  {
   "cell_type": "code",
   "execution_count": 58,
   "id": "e98cfc9f",
   "metadata": {},
   "outputs": [
    {
     "data": {
      "text/plain": [
       "ID        50f5eaf0fdc9f065f0007e7e\n",
       "lat                     -22.842849\n",
       "long                    -43.278714\n",
       "safety                         0.0\n",
       "Name: 56, dtype: object"
      ]
     },
     "execution_count": 58,
     "metadata": {},
     "output_type": "execute_result"
    }
   ],
   "source": [
    "merged_df.iloc[56]"
   ]
  },
  {
   "cell_type": "code",
   "execution_count": 59,
   "id": "57933160",
   "metadata": {},
   "outputs": [],
   "source": [
    "merged_df.to_json(\"image_safety3.json\", orient=\"records\", indent=2)"
   ]
  }
 ],
 "metadata": {
  "kernelspec": {
   "display_name": "projetoF_vis",
   "language": "python",
   "name": "python3"
  },
  "language_info": {
   "codemirror_mode": {
    "name": "ipython",
    "version": 3
   },
   "file_extension": ".py",
   "mimetype": "text/x-python",
   "name": "python",
   "nbconvert_exporter": "python",
   "pygments_lexer": "ipython3",
   "version": "3.11.11"
  }
 },
 "nbformat": 4,
 "nbformat_minor": 5
}
